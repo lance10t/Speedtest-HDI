{
 "cells": [
  {
   "cell_type": "code",
   "execution_count": 1,
   "metadata": {
    "colab": {},
    "colab_type": "code",
    "id": "l8ydgHhRv6KL"
   },
   "outputs": [],
   "source": [
    "import numpy as np\n",
    "import pandas as pd\n",
    "import matplotlib.pyplot as plt"
   ]
  },
  {
   "cell_type": "markdown",
   "metadata": {},
   "source": [
    "# Read in the data files\n",
    "speedtest_data is provided by Ookla from https://www.speedtest.net/insights/blog/tracking-covid-19-impact-global-internet-performance/\n",
    "The Human Development Index file can be found from the UN Human Development Index site at http://hdr.undp.org/en/data"
   ]
  },
  {
   "cell_type": "code",
   "execution_count": 2,
   "metadata": {
    "colab": {},
    "colab_type": "code",
    "id": "qhkbrO1AvlJx"
   },
   "outputs": [],
   "source": [
    "speedtest_data = '2020-05-27 Ookla Speedtest Tracking COVID-19’s Impact on Global Internet Performance Article Data.xlsx'\n",
    "hdi_data = 'Human development index (HDI).csv'"
   ]
  },
  {
   "cell_type": "code",
   "execution_count": 3,
   "metadata": {
    "colab": {},
    "colab_type": "code",
    "id": "kdoGlB9zvvKa"
   },
   "outputs": [],
   "source": [
    "df_speedtest = pd.read_excel(speedtest_data, skiprows=range(2))\n",
    "df_hdi = pd.read_csv(hdi_data, skiprows=range(1))"
   ]
  },
  {
   "cell_type": "code",
   "execution_count": 4,
   "metadata": {
    "colab": {
     "base_uri": "https://localhost:8080/",
     "height": 395
    },
    "colab_type": "code",
    "executionInfo": {
     "elapsed": 1096,
     "status": "error",
     "timestamp": 1590933171037,
     "user": {
      "displayName": "Gerry Chng",
      "photoUrl": "https://lh3.googleusercontent.com/a-/AOh14GhcFis93etFbK6FiIBC7YO3IFghIUcAFjlK0FIwbQ=s64",
      "userId": "04220351230757015845"
     },
     "user_tz": -480
    },
    "id": "H1SRiihkwP9A",
    "outputId": "89135acf-458e-4704-ef98-344353f08cec"
   },
   "outputs": [],
   "source": [
    "speedtest_by_country = df_speedtest.groupby('Place')[['Mobile Download % Change vs Base Week', 'Fixed Download % Change vs Base Week', 'Fixed Median Download Mbps']].min()\n",
    "speedtest_by_country = speedtest_by_country.reset_index()"
   ]
  },
  {
   "cell_type": "markdown",
   "metadata": {
    "colab_type": "text",
    "id": "jk0lGnNEyGiU"
   },
   "source": [
    "# Clean the data\n",
    "First we melt the dataframe to have the years in a single column.  We will then only filter down to the HDI data for the year 2018"
   ]
  },
  {
   "cell_type": "code",
   "execution_count": 7,
   "metadata": {
    "colab": {
     "base_uri": "https://localhost:8080/",
     "height": 136
    },
    "colab_type": "code",
    "executionInfo": {
     "elapsed": 1650,
     "status": "ok",
     "timestamp": 1590933012334,
     "user": {
      "displayName": "Gerry Chng",
      "photoUrl": "https://lh3.googleusercontent.com/a-/AOh14GhcFis93etFbK6FiIBC7YO3IFghIUcAFjlK0FIwbQ=s64",
      "userId": "04220351230757015845"
     },
     "user_tz": -480
    },
    "id": "wIHSmPaEyCCO",
    "outputId": "5d377234-4ce2-4da8-f96f-e72b319883e5"
   },
   "outputs": [],
   "source": [
    "df_hdi_melted = pd.melt(df_hdi, id_vars=['HDI Rank (2018)', 'Country'], var_name='Year', value_name='HDI')\n",
    "df_hdi_latest = df_hdi_melted[df_hdi_melted['Year'] == '2018']"
   ]
  },
  {
   "cell_type": "markdown",
   "metadata": {},
   "source": [
    "# Merge the two dataframes on the Place=Country keys"
   ]
  },
  {
   "cell_type": "code",
   "execution_count": 9,
   "metadata": {
    "colab": {
     "base_uri": "https://localhost:8080/",
     "height": 327
    },
    "colab_type": "code",
    "executionInfo": {
     "elapsed": 2014,
     "status": "error",
     "timestamp": 1590933012711,
     "user": {
      "displayName": "Gerry Chng",
      "photoUrl": "https://lh3.googleusercontent.com/a-/AOh14GhcFis93etFbK6FiIBC7YO3IFghIUcAFjlK0FIwbQ=s64",
      "userId": "04220351230757015845"
     },
     "user_tz": -480
    },
    "id": "15BFRwOu_RhA",
    "outputId": "7e9109cf-288e-4872-ac1e-a71771cf241e"
   },
   "outputs": [],
   "source": [
    "df = pd.merge(left=speedtest_by_country, right=df_hdi_latest, left_on='Place', right_on='Country')\n",
    "df['HDI'] = pd.to_numeric(df['HDI'],errors='coerce')"
   ]
  },
  {
   "cell_type": "markdown",
   "metadata": {},
   "source": [
    "# Plot Mobile Download % Change vs Base Week"
   ]
  },
  {
   "cell_type": "code",
   "execution_count": 11,
   "metadata": {},
   "outputs": [
    {
     "data": {
      "image/png": "[encoded data removed]",
      "text/plain": [
       "<Figure size 432x288 with 1 Axes>"
      ]
     },
     "metadata": {
      "needs_background": "light"
     },
     "output_type": "display_data"
    }
   ],
   "source": [
    "x = df['Mobile Download % Change vs Base Week']\n",
    "y = df['HDI']\n",
    "plt.scatter(x,y)\n",
    "plt.yticks(np.arange(0,1,step=0.2))\n",
    "plt.axhline(y=0.8)\n",
    "plt.axvline(x=-0.10)\n",
    "plt.show()"
   ]
  },
  {
   "cell_type": "markdown",
   "metadata": {},
   "source": [
    "# Plot Fixed Download % Change vs Base Week"
   ]
  },
  {
   "cell_type": "code",
   "execution_count": 20,
   "metadata": {},
   "outputs": [
    {
     "data": {
      "image/png": "[encoded data removed]",
      "text/plain": [
       "<Figure size 432x288 with 1 Axes>"
      ]
     },
     "metadata": {
      "needs_background": "light"
     },
     "output_type": "display_data"
    }
   ],
   "source": [
    "x = df['Fixed Download % Change vs Base Week']\n",
    "y = df['HDI']\n",
    "plt.scatter(x,y)\n",
    "plt.yticks(np.arange(0,1,step=0.2))\n",
    "plt.axhline(y=0.8)\n",
    "plt.axvline(x=-0.1)\n",
    "\n",
    "plt.title('Plot of Fixed Download Speed % Change against HDI')\n",
    "plt.xlabel('Fixed Download % Change vs Base Week')\n",
    "plt.ylabel('HDI')\n",
    "plt.show()"
   ]
  },
  {
   "cell_type": "code",
   "execution_count": 21,
   "metadata": {},
   "outputs": [],
   "source": [
    "Q1 = df[(df['Fixed Download % Change vs Base Week'] >= -0.1) & (df['HDI'] >= 0.8)]\n",
    "Q2 = df[(df['Fixed Download % Change vs Base Week'] >= -0.1) & (df['HDI'] < 0.8)]\n",
    "Q3 = df[(df['Fixed Download % Change vs Base Week'] < -0.1) & (df['HDI'] >= 0.8)]\n",
    "Q4 = df[(df['Fixed Download % Change vs Base Week'] < -0.1) & (df['HDI'] < 0.8)]"
   ]
  },
  {
   "cell_type": "code",
   "execution_count": 22,
   "metadata": {},
   "outputs": [
    {
     "name": "stdout",
     "output_type": "stream",
     "text": [
      "27\n",
      "9\n",
      "23\n",
      "44\n",
      "103\n"
     ]
    }
   ],
   "source": [
    "print(len(Q1))\n",
    "print(len(Q2))\n",
    "print(len(Q3))\n",
    "print(len(Q4))\n",
    "print(len(df))"
   ]
  },
  {
   "cell_type": "markdown",
   "metadata": {},
   "source": [
    "# Plot Fixed Median Download vs Base Week"
   ]
  },
  {
   "cell_type": "code",
   "execution_count": 19,
   "metadata": {},
   "outputs": [
    {
     "data": {
      "image/png": "[encoded data removed]",
      "text/plain": [
       "<Figure size 432x288 with 1 Axes>"
      ]
     },
     "metadata": {
      "needs_background": "light"
     },
     "output_type": "display_data"
    }
   ],
   "source": [
    "x = df['Fixed Median Download Mbps']\n",
    "y = df['HDI']\n",
    "plt.scatter(x,y)\n",
    "plt.yticks(np.arange(0,1,step=0.2))\n",
    "plt.axhline(y=0.8)\n",
    "\n",
    "plt.title('Plot of Fixed Download Speed (Mbps) against HDI')\n",
    "plt.xlabel('Fixed Median Download Mbps')\n",
    "plt.ylabel('HDI')\n",
    "plt.show()"
   ]
  }
 ],
 "metadata": {
  "accelerator": "GPU",
  "colab": {
   "authorship_tag": "ABX9TyM0EbvCAbJWFm5JotyKF6qV",
   "mount_file_id": "1f8-GSWDfjElGm0x9rTo9x0CZ3R6p3bJt",
   "name": "speedtest-hdi_analysis.ipynb",
   "provenance": []
  },
  "kernelspec": {
   "display_name": "Python 3",
   "language": "python",
   "name": "python3"
  },
  "language_info": {
   "codemirror_mode": {
    "name": "ipython",
    "version": 3
   },
   "file_extension": ".py",
   "mimetype": "text/x-python",
   "name": "python",
   "nbconvert_exporter": "python",
   "pygments_lexer": "ipython3",
   "version": "3.7.7"
  }
 },
 "nbformat": 4,
 "nbformat_minor": 1
}
